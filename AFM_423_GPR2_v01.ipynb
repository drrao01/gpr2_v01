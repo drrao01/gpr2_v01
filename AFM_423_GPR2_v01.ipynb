{
  "nbformat": 4,
  "nbformat_minor": 0,
  "metadata": {
    "colab": {
      "name": "AFM_423_GPR2_v01.ipynb",
      "provenance": [],
      "collapsed_sections": [],
      "authorship_tag": "ABX9TyOThs7B4DcPAtOd9E01J1qh",
      "include_colab_link": true
    },
    "kernelspec": {
      "name": "python3",
      "display_name": "Python 3"
    },
    "language_info": {
      "name": "python"
    }
  },
  "cells": [
    {
      "cell_type": "markdown",
      "metadata": {
        "id": "view-in-github",
        "colab_type": "text"
      },
      "source": [
        "<a href=\"https://colab.research.google.com/github/drrao01/gpr2_v01/blob/main/AFM_423_GPR2_v01.ipynb\" target=\"_parent\"><img src=\"https://colab.research.google.com/assets/colab-badge.svg\" alt=\"Open In Colab\"/></a>"
      ]
    },
    {
      "cell_type": "markdown",
      "source": [
        "TO DO (Mark things as completed when done): \n",
        "\n",
        "1.   Load in data\n",
        "2.   Data Preprocessing (Merge all data sets, remove days with low volume, make graphs/data viz. regarding price, moneyness, profitability, and volume trends, convert time-to-maturity to hours) \n",
        "3.   Apply Black Scholes Model\n",
        "4.   Apply simple NN (with factor data and without factor data)\n",
        "5.   Apply gated NN (with factor data and without factor data)\n",
        "6.   Create results summary (training times, accuracy, MSE, MAPE, graph of predicted price vs actual price)\n",
        "\n",
        "\n",
        "\n"
      ],
      "metadata": {
        "id": "8u6JkxlaCClU"
      }
    },
    {
      "cell_type": "code",
      "source": [
        "import pandas as pd\n",
        "import numpy as np\n",
        "import keras\n",
        "import tensorflow as tf\n",
        "import matplotlib\n",
        "import seaborn\n",
        "import sklearn \n",
        "import datetime as dt"
      ],
      "metadata": {
        "id": "Jt1zBfLsCNpR"
      },
      "execution_count": 28,
      "outputs": []
    },
    {
      "cell_type": "code",
      "source": [
        "url = 'https://raw.githubusercontent.com/drrao01/gpr2_v01/main/Data/spx_eod_201101.txt'\n",
        "#names = [QUOTE_UNIXTIME], [QUOTE_READTIME], [QUOTE_DATE], [QUOTE_TIME_HOURS], [UNDERLYING_LAST], [EXPIRE_DATE], [EXPIRE_UNIX], [DTE], [C_DELTA], [C_GAMMA], [C_VEGA], [C_THETA], [C_RHO], [C_IV], [C_VOLUME], [C_LAST], [C_SIZE], [C_BID], [C_ASK], [STRIKE], [P_BID], [P_ASK], [P_SIZE], [P_LAST], [P_DELTA], [P_GAMMA], [P_VEGA], [P_THETA], [P_RHO], [P_IV], [P_VOLUME], [STRIKE_DISTANCE], [STRIKE_DISTANCE_PCT]\n",
        "df = pd.read_csv(url, sep=\",\")"
      ],
      "metadata": {
        "id": "7_HZtd0ptgxT"
      },
      "execution_count": 30,
      "outputs": []
    },
    {
      "cell_type": "code",
      "source": [
        "print(df.shape)"
      ],
      "metadata": {
        "colab": {
          "base_uri": "https://localhost:8080/"
        },
        "id": "APpWnY01D7wp",
        "outputId": "f84836e9-86cc-4080-fcc1-bf01c6514109"
      },
      "execution_count": 31,
      "outputs": [
        {
          "output_type": "stream",
          "name": "stdout",
          "text": [
            "(14900, 33)\n"
          ]
        }
      ]
    },
    {
      "cell_type": "code",
      "source": [
        "df.head()"
      ],
      "metadata": {
        "colab": {
          "base_uri": "https://localhost:8080/",
          "height": 300
        },
        "id": "ST02OzriF21E",
        "outputId": "7274da02-f3fb-4f2a-e501-d0ca2d74c429"
      },
      "execution_count": 32,
      "outputs": [
        {
          "output_type": "execute_result",
          "data": {
            "text/plain": [
              "   [QUOTE_UNIXTIME]   [QUOTE_READTIME]  [QUOTE_DATE]   [QUOTE_TIME_HOURS]  \\\n",
              "0        1294088400   2011-01-03 16:00    2011-01-03                 16.0   \n",
              "1        1294088400   2011-01-03 16:00    2011-01-03                 16.0   \n",
              "2        1294088400   2011-01-03 16:00    2011-01-03                 16.0   \n",
              "3        1294088400   2011-01-03 16:00    2011-01-03                 16.0   \n",
              "4        1294088400   2011-01-03 16:00    2011-01-03                 16.0   \n",
              "\n",
              "    [UNDERLYING_LAST]  [EXPIRE_DATE]   [EXPIRE_UNIX]   [DTE]   [C_DELTA]  \\\n",
              "0             1271.36     2011-01-07      1294434000     4.0         1.0   \n",
              "1             1271.36     2011-01-07      1294434000     4.0         1.0   \n",
              "2             1271.36     2011-01-07      1294434000     4.0         1.0   \n",
              "3             1271.36     2011-01-07      1294434000     4.0         1.0   \n",
              "4             1271.36     2011-01-07      1294434000     4.0         1.0   \n",
              "\n",
              "    [C_GAMMA]  ...   [P_LAST]   [P_DELTA]   [P_GAMMA]  [P_VEGA]  [P_THETA]  \\\n",
              "0         0.0  ...       0.05    -0.00098     0.00003   0.00559   -0.01984   \n",
              "1         0.0  ...       0.05    -0.00164     0.00004   0.00572   -0.01861   \n",
              "2         0.0  ...       0.05    -0.00117     0.00009   0.00667   -0.01863   \n",
              "3         0.0  ...       0.05    -0.00392     0.00016   0.01753   -0.05175   \n",
              "4         0.0  ...       0.10    -0.00714     0.00036   0.03018   -0.08182   \n",
              "\n",
              "    [P_RHO]     [P_IV]   [P_VOLUME]   [STRIKE_DISTANCE]  \\\n",
              "0  -0.00044   0.533330                            221.4   \n",
              "1  -0.00045   0.471210    10.000000               196.4   \n",
              "2  -0.00025   0.411160   196.000000               171.4   \n",
              "3  -0.00112   0.391020   416.000000               146.4   \n",
              "4  -0.00160   0.345100                            121.4   \n",
              "\n",
              "    [STRIKE_DISTANCE_PCT]  \n",
              "0                   0.174  \n",
              "1                   0.154  \n",
              "2                   0.135  \n",
              "3                   0.115  \n",
              "4                   0.095  \n",
              "\n",
              "[5 rows x 33 columns]"
            ],
            "text/html": [
              "\n",
              "  <div id=\"df-624497b4-a5e5-4dd6-9337-5c5f03410af3\">\n",
              "    <div class=\"colab-df-container\">\n",
              "      <div>\n",
              "<style scoped>\n",
              "    .dataframe tbody tr th:only-of-type {\n",
              "        vertical-align: middle;\n",
              "    }\n",
              "\n",
              "    .dataframe tbody tr th {\n",
              "        vertical-align: top;\n",
              "    }\n",
              "\n",
              "    .dataframe thead th {\n",
              "        text-align: right;\n",
              "    }\n",
              "</style>\n",
              "<table border=\"1\" class=\"dataframe\">\n",
              "  <thead>\n",
              "    <tr style=\"text-align: right;\">\n",
              "      <th></th>\n",
              "      <th>[QUOTE_UNIXTIME]</th>\n",
              "      <th>[QUOTE_READTIME]</th>\n",
              "      <th>[QUOTE_DATE]</th>\n",
              "      <th>[QUOTE_TIME_HOURS]</th>\n",
              "      <th>[UNDERLYING_LAST]</th>\n",
              "      <th>[EXPIRE_DATE]</th>\n",
              "      <th>[EXPIRE_UNIX]</th>\n",
              "      <th>[DTE]</th>\n",
              "      <th>[C_DELTA]</th>\n",
              "      <th>[C_GAMMA]</th>\n",
              "      <th>...</th>\n",
              "      <th>[P_LAST]</th>\n",
              "      <th>[P_DELTA]</th>\n",
              "      <th>[P_GAMMA]</th>\n",
              "      <th>[P_VEGA]</th>\n",
              "      <th>[P_THETA]</th>\n",
              "      <th>[P_RHO]</th>\n",
              "      <th>[P_IV]</th>\n",
              "      <th>[P_VOLUME]</th>\n",
              "      <th>[STRIKE_DISTANCE]</th>\n",
              "      <th>[STRIKE_DISTANCE_PCT]</th>\n",
              "    </tr>\n",
              "  </thead>\n",
              "  <tbody>\n",
              "    <tr>\n",
              "      <th>0</th>\n",
              "      <td>1294088400</td>\n",
              "      <td>2011-01-03 16:00</td>\n",
              "      <td>2011-01-03</td>\n",
              "      <td>16.0</td>\n",
              "      <td>1271.36</td>\n",
              "      <td>2011-01-07</td>\n",
              "      <td>1294434000</td>\n",
              "      <td>4.0</td>\n",
              "      <td>1.0</td>\n",
              "      <td>0.0</td>\n",
              "      <td>...</td>\n",
              "      <td>0.05</td>\n",
              "      <td>-0.00098</td>\n",
              "      <td>0.00003</td>\n",
              "      <td>0.00559</td>\n",
              "      <td>-0.01984</td>\n",
              "      <td>-0.00044</td>\n",
              "      <td>0.533330</td>\n",
              "      <td></td>\n",
              "      <td>221.4</td>\n",
              "      <td>0.174</td>\n",
              "    </tr>\n",
              "    <tr>\n",
              "      <th>1</th>\n",
              "      <td>1294088400</td>\n",
              "      <td>2011-01-03 16:00</td>\n",
              "      <td>2011-01-03</td>\n",
              "      <td>16.0</td>\n",
              "      <td>1271.36</td>\n",
              "      <td>2011-01-07</td>\n",
              "      <td>1294434000</td>\n",
              "      <td>4.0</td>\n",
              "      <td>1.0</td>\n",
              "      <td>0.0</td>\n",
              "      <td>...</td>\n",
              "      <td>0.05</td>\n",
              "      <td>-0.00164</td>\n",
              "      <td>0.00004</td>\n",
              "      <td>0.00572</td>\n",
              "      <td>-0.01861</td>\n",
              "      <td>-0.00045</td>\n",
              "      <td>0.471210</td>\n",
              "      <td>10.000000</td>\n",
              "      <td>196.4</td>\n",
              "      <td>0.154</td>\n",
              "    </tr>\n",
              "    <tr>\n",
              "      <th>2</th>\n",
              "      <td>1294088400</td>\n",
              "      <td>2011-01-03 16:00</td>\n",
              "      <td>2011-01-03</td>\n",
              "      <td>16.0</td>\n",
              "      <td>1271.36</td>\n",
              "      <td>2011-01-07</td>\n",
              "      <td>1294434000</td>\n",
              "      <td>4.0</td>\n",
              "      <td>1.0</td>\n",
              "      <td>0.0</td>\n",
              "      <td>...</td>\n",
              "      <td>0.05</td>\n",
              "      <td>-0.00117</td>\n",
              "      <td>0.00009</td>\n",
              "      <td>0.00667</td>\n",
              "      <td>-0.01863</td>\n",
              "      <td>-0.00025</td>\n",
              "      <td>0.411160</td>\n",
              "      <td>196.000000</td>\n",
              "      <td>171.4</td>\n",
              "      <td>0.135</td>\n",
              "    </tr>\n",
              "    <tr>\n",
              "      <th>3</th>\n",
              "      <td>1294088400</td>\n",
              "      <td>2011-01-03 16:00</td>\n",
              "      <td>2011-01-03</td>\n",
              "      <td>16.0</td>\n",
              "      <td>1271.36</td>\n",
              "      <td>2011-01-07</td>\n",
              "      <td>1294434000</td>\n",
              "      <td>4.0</td>\n",
              "      <td>1.0</td>\n",
              "      <td>0.0</td>\n",
              "      <td>...</td>\n",
              "      <td>0.05</td>\n",
              "      <td>-0.00392</td>\n",
              "      <td>0.00016</td>\n",
              "      <td>0.01753</td>\n",
              "      <td>-0.05175</td>\n",
              "      <td>-0.00112</td>\n",
              "      <td>0.391020</td>\n",
              "      <td>416.000000</td>\n",
              "      <td>146.4</td>\n",
              "      <td>0.115</td>\n",
              "    </tr>\n",
              "    <tr>\n",
              "      <th>4</th>\n",
              "      <td>1294088400</td>\n",
              "      <td>2011-01-03 16:00</td>\n",
              "      <td>2011-01-03</td>\n",
              "      <td>16.0</td>\n",
              "      <td>1271.36</td>\n",
              "      <td>2011-01-07</td>\n",
              "      <td>1294434000</td>\n",
              "      <td>4.0</td>\n",
              "      <td>1.0</td>\n",
              "      <td>0.0</td>\n",
              "      <td>...</td>\n",
              "      <td>0.10</td>\n",
              "      <td>-0.00714</td>\n",
              "      <td>0.00036</td>\n",
              "      <td>0.03018</td>\n",
              "      <td>-0.08182</td>\n",
              "      <td>-0.00160</td>\n",
              "      <td>0.345100</td>\n",
              "      <td></td>\n",
              "      <td>121.4</td>\n",
              "      <td>0.095</td>\n",
              "    </tr>\n",
              "  </tbody>\n",
              "</table>\n",
              "<p>5 rows × 33 columns</p>\n",
              "</div>\n",
              "      <button class=\"colab-df-convert\" onclick=\"convertToInteractive('df-624497b4-a5e5-4dd6-9337-5c5f03410af3')\"\n",
              "              title=\"Convert this dataframe to an interactive table.\"\n",
              "              style=\"display:none;\">\n",
              "        \n",
              "  <svg xmlns=\"http://www.w3.org/2000/svg\" height=\"24px\"viewBox=\"0 0 24 24\"\n",
              "       width=\"24px\">\n",
              "    <path d=\"M0 0h24v24H0V0z\" fill=\"none\"/>\n",
              "    <path d=\"M18.56 5.44l.94 2.06.94-2.06 2.06-.94-2.06-.94-.94-2.06-.94 2.06-2.06.94zm-11 1L8.5 8.5l.94-2.06 2.06-.94-2.06-.94L8.5 2.5l-.94 2.06-2.06.94zm10 10l.94 2.06.94-2.06 2.06-.94-2.06-.94-.94-2.06-.94 2.06-2.06.94z\"/><path d=\"M17.41 7.96l-1.37-1.37c-.4-.4-.92-.59-1.43-.59-.52 0-1.04.2-1.43.59L10.3 9.45l-7.72 7.72c-.78.78-.78 2.05 0 2.83L4 21.41c.39.39.9.59 1.41.59.51 0 1.02-.2 1.41-.59l7.78-7.78 2.81-2.81c.8-.78.8-2.07 0-2.86zM5.41 20L4 18.59l7.72-7.72 1.47 1.35L5.41 20z\"/>\n",
              "  </svg>\n",
              "      </button>\n",
              "      \n",
              "  <style>\n",
              "    .colab-df-container {\n",
              "      display:flex;\n",
              "      flex-wrap:wrap;\n",
              "      gap: 12px;\n",
              "    }\n",
              "\n",
              "    .colab-df-convert {\n",
              "      background-color: #E8F0FE;\n",
              "      border: none;\n",
              "      border-radius: 50%;\n",
              "      cursor: pointer;\n",
              "      display: none;\n",
              "      fill: #1967D2;\n",
              "      height: 32px;\n",
              "      padding: 0 0 0 0;\n",
              "      width: 32px;\n",
              "    }\n",
              "\n",
              "    .colab-df-convert:hover {\n",
              "      background-color: #E2EBFA;\n",
              "      box-shadow: 0px 1px 2px rgba(60, 64, 67, 0.3), 0px 1px 3px 1px rgba(60, 64, 67, 0.15);\n",
              "      fill: #174EA6;\n",
              "    }\n",
              "\n",
              "    [theme=dark] .colab-df-convert {\n",
              "      background-color: #3B4455;\n",
              "      fill: #D2E3FC;\n",
              "    }\n",
              "\n",
              "    [theme=dark] .colab-df-convert:hover {\n",
              "      background-color: #434B5C;\n",
              "      box-shadow: 0px 1px 3px 1px rgba(0, 0, 0, 0.15);\n",
              "      filter: drop-shadow(0px 1px 2px rgba(0, 0, 0, 0.3));\n",
              "      fill: #FFFFFF;\n",
              "    }\n",
              "  </style>\n",
              "\n",
              "      <script>\n",
              "        const buttonEl =\n",
              "          document.querySelector('#df-624497b4-a5e5-4dd6-9337-5c5f03410af3 button.colab-df-convert');\n",
              "        buttonEl.style.display =\n",
              "          google.colab.kernel.accessAllowed ? 'block' : 'none';\n",
              "\n",
              "        async function convertToInteractive(key) {\n",
              "          const element = document.querySelector('#df-624497b4-a5e5-4dd6-9337-5c5f03410af3');\n",
              "          const dataTable =\n",
              "            await google.colab.kernel.invokeFunction('convertToInteractive',\n",
              "                                                     [key], {});\n",
              "          if (!dataTable) return;\n",
              "\n",
              "          const docLinkHtml = 'Like what you see? Visit the ' +\n",
              "            '<a target=\"_blank\" href=https://colab.research.google.com/notebooks/data_table.ipynb>data table notebook</a>'\n",
              "            + ' to learn more about interactive tables.';\n",
              "          element.innerHTML = '';\n",
              "          dataTable['output_type'] = 'display_data';\n",
              "          await google.colab.output.renderOutput(dataTable, element);\n",
              "          const docLink = document.createElement('div');\n",
              "          docLink.innerHTML = docLinkHtml;\n",
              "          element.appendChild(docLink);\n",
              "        }\n",
              "      </script>\n",
              "    </div>\n",
              "  </div>\n",
              "  "
            ]
          },
          "metadata": {},
          "execution_count": 32
        }
      ]
    },
    {
      "cell_type": "code",
      "source": [
        "df.info()"
      ],
      "metadata": {
        "colab": {
          "base_uri": "https://localhost:8080/"
        },
        "id": "oJ85OTLJHlPN",
        "outputId": "01309a25-c3dd-4851-98ba-fea1667599b1"
      },
      "execution_count": 33,
      "outputs": [
        {
          "output_type": "stream",
          "name": "stdout",
          "text": [
            "<class 'pandas.core.frame.DataFrame'>\n",
            "RangeIndex: 14900 entries, 0 to 14899\n",
            "Data columns (total 33 columns):\n",
            " #   Column                  Non-Null Count  Dtype  \n",
            "---  ------                  --------------  -----  \n",
            " 0   [QUOTE_UNIXTIME]        14900 non-null  int64  \n",
            " 1    [QUOTE_READTIME]       14900 non-null  object \n",
            " 2    [QUOTE_DATE]           14900 non-null  object \n",
            " 3    [QUOTE_TIME_HOURS]     14900 non-null  float64\n",
            " 4    [UNDERLYING_LAST]      14900 non-null  float64\n",
            " 5    [EXPIRE_DATE]          14900 non-null  object \n",
            " 6    [EXPIRE_UNIX]          14900 non-null  int64  \n",
            " 7    [DTE]                  14900 non-null  float64\n",
            " 8    [C_DELTA]              14900 non-null  float64\n",
            " 9    [C_GAMMA]              14900 non-null  float64\n",
            " 10   [C_VEGA]               14900 non-null  float64\n",
            " 11   [C_THETA]              14900 non-null  float64\n",
            " 12   [C_RHO]                14900 non-null  float64\n",
            " 13   [C_IV]                 14900 non-null  object \n",
            " 14   [C_VOLUME]             14900 non-null  object \n",
            " 15   [C_LAST]               14900 non-null  float64\n",
            " 16   [C_SIZE]               14900 non-null  object \n",
            " 17   [C_BID]                14900 non-null  float64\n",
            " 18   [C_ASK]                14900 non-null  float64\n",
            " 19   [STRIKE]               14900 non-null  float64\n",
            " 20   [P_BID]                14900 non-null  float64\n",
            " 21   [P_ASK]                14900 non-null  float64\n",
            " 22   [P_SIZE]               14900 non-null  object \n",
            " 23   [P_LAST]               14900 non-null  float64\n",
            " 24   [P_DELTA]              14900 non-null  float64\n",
            " 25   [P_GAMMA]              14900 non-null  float64\n",
            " 26   [P_VEGA]               14900 non-null  float64\n",
            " 27   [P_THETA]              14900 non-null  float64\n",
            " 28   [P_RHO]                14900 non-null  float64\n",
            " 29   [P_IV]                 14900 non-null  object \n",
            " 30   [P_VOLUME]             14900 non-null  object \n",
            " 31   [STRIKE_DISTANCE]      14900 non-null  float64\n",
            " 32   [STRIKE_DISTANCE_PCT]  14900 non-null  float64\n",
            "dtypes: float64(22), int64(2), object(9)\n",
            "memory usage: 3.8+ MB\n"
          ]
        }
      ]
    },
    {
      "cell_type": "code",
      "source": [
        "years = list(range(11, 21))\n",
        "months = list(range(1, 12))\n",
        "\n",
        "for year in years: \n",
        "  for month in months: \n",
        "    #print(f'{year} - {month}:')\n",
        "    if month < 10:\n",
        "      url = f'https://raw.githubusercontent.com/drrao01/gpr2_v01/main/Data/spx_eod_20{year}0{month}.txt'\n",
        "    else:\n",
        "      url = f'https://raw.githubusercontent.com/drrao01/gpr2_v01/main/Data/spx_eod_20{year}{month}.txt'\n",
        "    df_temp = pd.read_csv(url)\n",
        "    print(f'{year} - {month}: {df_temp.shape}')\n",
        "    df = df.append(df_temp)\n",
        "\n",
        "print(df.shape)"
      ],
      "metadata": {
        "colab": {
          "base_uri": "https://localhost:8080/"
        },
        "id": "QgB9JdTdDVvr",
        "outputId": "71c1bb57-ed02-4453-d0d6-5485875af0d5"
      },
      "execution_count": 34,
      "outputs": [
        {
          "output_type": "stream",
          "name": "stdout",
          "text": [
            "11 - 1: (14900, 33)\n",
            "11 - 2: (19061, 33)\n"
          ]
        },
        {
          "output_type": "stream",
          "name": "stderr",
          "text": [
            "/usr/local/lib/python3.7/dist-packages/IPython/core/interactiveshell.py:2882: DtypeWarning: Columns (8,9,10,11,12,24,25,26,27,28) have mixed types.Specify dtype option on import or set low_memory=False.\n",
            "  exec(code_obj, self.user_global_ns, self.user_ns)\n"
          ]
        },
        {
          "output_type": "stream",
          "name": "stdout",
          "text": [
            "11 - 3: (23066, 33)\n",
            "11 - 4: (19382, 33)\n",
            "11 - 5: (21145, 33)\n",
            "11 - 6: (21725, 33)\n",
            "11 - 7: (19353, 33)\n",
            "11 - 8: (22518, 33)\n",
            "11 - 9: (22731, 33)\n",
            "11 - 10: (21509, 33)\n",
            "11 - 11: (21452, 33)\n",
            "12 - 1: (20978, 33)\n",
            "12 - 2: (22074, 33)\n",
            "12 - 3: (26229, 33)\n",
            "12 - 4: (23010, 33)\n",
            "12 - 5: (25095, 33)\n"
          ]
        },
        {
          "output_type": "stream",
          "name": "stderr",
          "text": [
            "/usr/local/lib/python3.7/dist-packages/IPython/core/interactiveshell.py:2882: DtypeWarning: Columns (15,17,18,20,21,23) have mixed types.Specify dtype option on import or set low_memory=False.\n",
            "  exec(code_obj, self.user_global_ns, self.user_ns)\n"
          ]
        },
        {
          "output_type": "stream",
          "name": "stdout",
          "text": [
            "12 - 6: (26478, 33)\n",
            "12 - 7: (28004, 33)\n",
            "12 - 8: (32414, 33)\n",
            "12 - 9: (26315, 33)\n",
            "12 - 10: (32401, 33)\n",
            "12 - 11: (32211, 33)\n",
            "13 - 1: (29707, 33)\n",
            "13 - 2: (27387, 33)\n",
            "13 - 3: (28575, 33)\n"
          ]
        },
        {
          "output_type": "stream",
          "name": "stderr",
          "text": [
            "/usr/local/lib/python3.7/dist-packages/IPython/core/interactiveshell.py:2882: DtypeWarning: Columns (15,17,18,20,21,23,29) have mixed types.Specify dtype option on import or set low_memory=False.\n",
            "  exec(code_obj, self.user_global_ns, self.user_ns)\n"
          ]
        },
        {
          "output_type": "stream",
          "name": "stdout",
          "text": [
            "13 - 4: (33069, 33)\n",
            "13 - 5: (35163, 33)\n",
            "13 - 6: (31388, 33)\n",
            "13 - 7: (37311, 33)\n",
            "13 - 8: (38133, 33)\n",
            "13 - 9: (35261, 33)\n",
            "13 - 10: (39599, 33)\n",
            "13 - 11: (36706, 33)\n",
            "14 - 1: (40366, 33)\n",
            "14 - 2: (40989, 33)\n"
          ]
        },
        {
          "output_type": "stream",
          "name": "stderr",
          "text": [
            "/usr/local/lib/python3.7/dist-packages/IPython/core/interactiveshell.py:2882: DtypeWarning: Columns (8,9,10,11,12,15,17,18,20,21,23,24,25,26,27,28) have mixed types.Specify dtype option on import or set low_memory=False.\n",
            "  exec(code_obj, self.user_global_ns, self.user_ns)\n"
          ]
        },
        {
          "output_type": "stream",
          "name": "stdout",
          "text": [
            "14 - 3: (47380, 33)\n"
          ]
        },
        {
          "output_type": "stream",
          "name": "stderr",
          "text": [
            "/usr/local/lib/python3.7/dist-packages/IPython/core/interactiveshell.py:2882: DtypeWarning: Columns (20,21,23) have mixed types.Specify dtype option on import or set low_memory=False.\n",
            "  exec(code_obj, self.user_global_ns, self.user_ns)\n"
          ]
        },
        {
          "output_type": "stream",
          "name": "stdout",
          "text": [
            "14 - 4: (45407, 33)\n",
            "14 - 5: (46143, 33)\n"
          ]
        },
        {
          "output_type": "stream",
          "name": "stderr",
          "text": [
            "/usr/local/lib/python3.7/dist-packages/IPython/core/interactiveshell.py:2882: DtypeWarning: Columns (29) have mixed types.Specify dtype option on import or set low_memory=False.\n",
            "  exec(code_obj, self.user_global_ns, self.user_ns)\n"
          ]
        },
        {
          "output_type": "stream",
          "name": "stdout",
          "text": [
            "14 - 6: (46357, 33)\n",
            "14 - 7: (51560, 33)\n",
            "14 - 8: (51202, 33)\n",
            "14 - 9: (60510, 33)\n"
          ]
        },
        {
          "output_type": "stream",
          "name": "stderr",
          "text": [
            "/usr/local/lib/python3.7/dist-packages/IPython/core/interactiveshell.py:2882: DtypeWarning: Columns (15,17,18) have mixed types.Specify dtype option on import or set low_memory=False.\n",
            "  exec(code_obj, self.user_global_ns, self.user_ns)\n"
          ]
        },
        {
          "output_type": "stream",
          "name": "stdout",
          "text": [
            "14 - 10: (68658, 33)\n",
            "14 - 11: (60412, 33)\n",
            "15 - 1: (63865, 33)\n",
            "15 - 2: (64824, 33)\n",
            "15 - 3: (83935, 33)\n",
            "15 - 4: (80223, 33)\n",
            "15 - 5: (76337, 33)\n",
            "15 - 6: (87934, 33)\n",
            "15 - 7: (88135, 33)\n",
            "15 - 8: (90100, 33)\n",
            "15 - 9: (97117, 33)\n",
            "15 - 10: (88920, 33)\n",
            "15 - 11: (79053, 33)\n",
            "16 - 1: (69848, 33)\n",
            "16 - 2: (74328, 33)\n",
            "16 - 3: (85698, 33)\n",
            "16 - 4: (76118, 33)\n",
            "16 - 5: (74615, 33)\n",
            "16 - 6: (72743, 33)\n",
            "16 - 7: (70894, 33)\n",
            "16 - 8: (81812, 33)\n",
            "16 - 9: (79785, 33)\n",
            "16 - 10: (84803, 33)\n",
            "16 - 11: (80908, 33)\n",
            "17 - 1: (85461, 33)\n",
            "17 - 2: (78346, 33)\n",
            "17 - 3: (93903, 33)\n",
            "17 - 4: (76916, 33)\n",
            "17 - 5: (88272, 33)\n",
            "17 - 6: (87612, 33)\n",
            "17 - 7: (77861, 33)\n",
            "17 - 8: (89619, 33)\n",
            "17 - 9: (77390, 33)\n",
            "17 - 10: (91300, 33)\n",
            "17 - 11: (89585, 33)\n",
            "18 - 1: (97544, 33)\n"
          ]
        },
        {
          "output_type": "stream",
          "name": "stderr",
          "text": [
            "/usr/local/lib/python3.7/dist-packages/IPython/core/interactiveshell.py:2882: DtypeWarning: Columns (17,18) have mixed types.Specify dtype option on import or set low_memory=False.\n",
            "  exec(code_obj, self.user_global_ns, self.user_ns)\n"
          ]
        },
        {
          "output_type": "stream",
          "name": "stdout",
          "text": [
            "18 - 2: (98484, 33)\n",
            "18 - 3: (110407, 33)\n",
            "18 - 4: (113627, 33)\n",
            "18 - 5: (116481, 33)\n",
            "18 - 6: (111445, 33)\n",
            "18 - 7: (116027, 33)\n",
            "18 - 8: (128380, 33)\n",
            "18 - 9: (107017, 33)\n",
            "18 - 10: (136674, 33)\n",
            "18 - 11: (127175, 33)\n",
            "19 - 1: (128066, 33)\n",
            "19 - 2: (109343, 33)\n",
            "19 - 3: (110807, 33)\n",
            "19 - 4: (117842, 33)\n",
            "19 - 5: (116178, 33)\n",
            "19 - 6: (112336, 33)\n",
            "19 - 7: (128786, 33)\n",
            "19 - 8: (126689, 33)\n",
            "19 - 9: (106921, 33)\n",
            "19 - 10: (132203, 33)\n",
            "19 - 11: (125946, 33)\n",
            "20 - 1: (141027, 33)\n",
            "20 - 2: (132836, 33)\n",
            "20 - 3: (182489, 33)\n",
            "20 - 4: (149674, 33)\n",
            "20 - 5: (122921, 33)\n",
            "20 - 6: (140718, 33)\n",
            "20 - 7: (144085, 33)\n",
            "20 - 8: (138634, 33)\n",
            "20 - 9: (154709, 33)\n",
            "20 - 10: (150346, 33)\n",
            "20 - 11: (129871, 33)\n",
            "(8322182, 33)\n"
          ]
        }
      ]
    },
    {
      "cell_type": "code",
      "source": [
        "df.head()"
      ],
      "metadata": {
        "id": "MhyFc7pW0iiF",
        "colab": {
          "base_uri": "https://localhost:8080/",
          "height": 248
        },
        "outputId": "9f1bfc53-0951-4085-920a-494dec458202"
      },
      "execution_count": 37,
      "outputs": [
        {
          "output_type": "execute_result",
          "data": {
            "text/plain": [
              "   [QUOTE_UNIXTIME]   [QUOTE_READTIME]  [QUOTE_DATE]   [QUOTE_TIME_HOURS]  \\\n",
              "0        1294088400   2011-01-03 16:00    2011-01-03                 16.0   \n",
              "1        1294088400   2011-01-03 16:00    2011-01-03                 16.0   \n",
              "2        1294088400   2011-01-03 16:00    2011-01-03                 16.0   \n",
              "3        1294088400   2011-01-03 16:00    2011-01-03                 16.0   \n",
              "4        1294088400   2011-01-03 16:00    2011-01-03                 16.0   \n",
              "\n",
              "    [UNDERLYING_LAST]  [EXPIRE_DATE]   [EXPIRE_UNIX]   [DTE]  [C_DELTA]  \\\n",
              "0             1271.36     2011-01-07      1294434000     4.0        1.0   \n",
              "1             1271.36     2011-01-07      1294434000     4.0        1.0   \n",
              "2             1271.36     2011-01-07      1294434000     4.0        1.0   \n",
              "3             1271.36     2011-01-07      1294434000     4.0        1.0   \n",
              "4             1271.36     2011-01-07      1294434000     4.0        1.0   \n",
              "\n",
              "   [C_GAMMA]  ...  [P_LAST]  [P_DELTA]  [P_GAMMA]  [P_VEGA]  [P_THETA]  \\\n",
              "0        0.0  ...      0.05   -0.00098    0.00003   0.00559   -0.01984   \n",
              "1        0.0  ...      0.05   -0.00164    0.00004   0.00572   -0.01861   \n",
              "2        0.0  ...      0.05   -0.00117    0.00009   0.00667   -0.01863   \n",
              "3        0.0  ...      0.05   -0.00392    0.00016   0.01753   -0.05175   \n",
              "4        0.0  ...       0.1   -0.00714    0.00036   0.03018   -0.08182   \n",
              "\n",
              "   [P_RHO]     [P_IV]   [P_VOLUME]  [STRIKE_DISTANCE]   [STRIKE_DISTANCE_PCT]  \n",
              "0 -0.00044   0.533330                           221.4                   0.174  \n",
              "1 -0.00045   0.471210    10.000000              196.4                   0.154  \n",
              "2 -0.00025   0.411160   196.000000              171.4                   0.135  \n",
              "3 -0.00112   0.391020   416.000000              146.4                   0.115  \n",
              "4  -0.0016   0.345100                           121.4                   0.095  \n",
              "\n",
              "[5 rows x 33 columns]"
            ],
            "text/html": [
              "\n",
              "  <div id=\"df-ed9ccc51-8a35-42ff-bcaa-b4c9d4db7593\">\n",
              "    <div class=\"colab-df-container\">\n",
              "      <div>\n",
              "<style scoped>\n",
              "    .dataframe tbody tr th:only-of-type {\n",
              "        vertical-align: middle;\n",
              "    }\n",
              "\n",
              "    .dataframe tbody tr th {\n",
              "        vertical-align: top;\n",
              "    }\n",
              "\n",
              "    .dataframe thead th {\n",
              "        text-align: right;\n",
              "    }\n",
              "</style>\n",
              "<table border=\"1\" class=\"dataframe\">\n",
              "  <thead>\n",
              "    <tr style=\"text-align: right;\">\n",
              "      <th></th>\n",
              "      <th>[QUOTE_UNIXTIME]</th>\n",
              "      <th>[QUOTE_READTIME]</th>\n",
              "      <th>[QUOTE_DATE]</th>\n",
              "      <th>[QUOTE_TIME_HOURS]</th>\n",
              "      <th>[UNDERLYING_LAST]</th>\n",
              "      <th>[EXPIRE_DATE]</th>\n",
              "      <th>[EXPIRE_UNIX]</th>\n",
              "      <th>[DTE]</th>\n",
              "      <th>[C_DELTA]</th>\n",
              "      <th>[C_GAMMA]</th>\n",
              "      <th>...</th>\n",
              "      <th>[P_LAST]</th>\n",
              "      <th>[P_DELTA]</th>\n",
              "      <th>[P_GAMMA]</th>\n",
              "      <th>[P_VEGA]</th>\n",
              "      <th>[P_THETA]</th>\n",
              "      <th>[P_RHO]</th>\n",
              "      <th>[P_IV]</th>\n",
              "      <th>[P_VOLUME]</th>\n",
              "      <th>[STRIKE_DISTANCE]</th>\n",
              "      <th>[STRIKE_DISTANCE_PCT]</th>\n",
              "    </tr>\n",
              "  </thead>\n",
              "  <tbody>\n",
              "    <tr>\n",
              "      <th>0</th>\n",
              "      <td>1294088400</td>\n",
              "      <td>2011-01-03 16:00</td>\n",
              "      <td>2011-01-03</td>\n",
              "      <td>16.0</td>\n",
              "      <td>1271.36</td>\n",
              "      <td>2011-01-07</td>\n",
              "      <td>1294434000</td>\n",
              "      <td>4.0</td>\n",
              "      <td>1.0</td>\n",
              "      <td>0.0</td>\n",
              "      <td>...</td>\n",
              "      <td>0.05</td>\n",
              "      <td>-0.00098</td>\n",
              "      <td>0.00003</td>\n",
              "      <td>0.00559</td>\n",
              "      <td>-0.01984</td>\n",
              "      <td>-0.00044</td>\n",
              "      <td>0.533330</td>\n",
              "      <td></td>\n",
              "      <td>221.4</td>\n",
              "      <td>0.174</td>\n",
              "    </tr>\n",
              "    <tr>\n",
              "      <th>1</th>\n",
              "      <td>1294088400</td>\n",
              "      <td>2011-01-03 16:00</td>\n",
              "      <td>2011-01-03</td>\n",
              "      <td>16.0</td>\n",
              "      <td>1271.36</td>\n",
              "      <td>2011-01-07</td>\n",
              "      <td>1294434000</td>\n",
              "      <td>4.0</td>\n",
              "      <td>1.0</td>\n",
              "      <td>0.0</td>\n",
              "      <td>...</td>\n",
              "      <td>0.05</td>\n",
              "      <td>-0.00164</td>\n",
              "      <td>0.00004</td>\n",
              "      <td>0.00572</td>\n",
              "      <td>-0.01861</td>\n",
              "      <td>-0.00045</td>\n",
              "      <td>0.471210</td>\n",
              "      <td>10.000000</td>\n",
              "      <td>196.4</td>\n",
              "      <td>0.154</td>\n",
              "    </tr>\n",
              "    <tr>\n",
              "      <th>2</th>\n",
              "      <td>1294088400</td>\n",
              "      <td>2011-01-03 16:00</td>\n",
              "      <td>2011-01-03</td>\n",
              "      <td>16.0</td>\n",
              "      <td>1271.36</td>\n",
              "      <td>2011-01-07</td>\n",
              "      <td>1294434000</td>\n",
              "      <td>4.0</td>\n",
              "      <td>1.0</td>\n",
              "      <td>0.0</td>\n",
              "      <td>...</td>\n",
              "      <td>0.05</td>\n",
              "      <td>-0.00117</td>\n",
              "      <td>0.00009</td>\n",
              "      <td>0.00667</td>\n",
              "      <td>-0.01863</td>\n",
              "      <td>-0.00025</td>\n",
              "      <td>0.411160</td>\n",
              "      <td>196.000000</td>\n",
              "      <td>171.4</td>\n",
              "      <td>0.135</td>\n",
              "    </tr>\n",
              "    <tr>\n",
              "      <th>3</th>\n",
              "      <td>1294088400</td>\n",
              "      <td>2011-01-03 16:00</td>\n",
              "      <td>2011-01-03</td>\n",
              "      <td>16.0</td>\n",
              "      <td>1271.36</td>\n",
              "      <td>2011-01-07</td>\n",
              "      <td>1294434000</td>\n",
              "      <td>4.0</td>\n",
              "      <td>1.0</td>\n",
              "      <td>0.0</td>\n",
              "      <td>...</td>\n",
              "      <td>0.05</td>\n",
              "      <td>-0.00392</td>\n",
              "      <td>0.00016</td>\n",
              "      <td>0.01753</td>\n",
              "      <td>-0.05175</td>\n",
              "      <td>-0.00112</td>\n",
              "      <td>0.391020</td>\n",
              "      <td>416.000000</td>\n",
              "      <td>146.4</td>\n",
              "      <td>0.115</td>\n",
              "    </tr>\n",
              "    <tr>\n",
              "      <th>4</th>\n",
              "      <td>1294088400</td>\n",
              "      <td>2011-01-03 16:00</td>\n",
              "      <td>2011-01-03</td>\n",
              "      <td>16.0</td>\n",
              "      <td>1271.36</td>\n",
              "      <td>2011-01-07</td>\n",
              "      <td>1294434000</td>\n",
              "      <td>4.0</td>\n",
              "      <td>1.0</td>\n",
              "      <td>0.0</td>\n",
              "      <td>...</td>\n",
              "      <td>0.1</td>\n",
              "      <td>-0.00714</td>\n",
              "      <td>0.00036</td>\n",
              "      <td>0.03018</td>\n",
              "      <td>-0.08182</td>\n",
              "      <td>-0.0016</td>\n",
              "      <td>0.345100</td>\n",
              "      <td></td>\n",
              "      <td>121.4</td>\n",
              "      <td>0.095</td>\n",
              "    </tr>\n",
              "  </tbody>\n",
              "</table>\n",
              "<p>5 rows × 33 columns</p>\n",
              "</div>\n",
              "      <button class=\"colab-df-convert\" onclick=\"convertToInteractive('df-ed9ccc51-8a35-42ff-bcaa-b4c9d4db7593')\"\n",
              "              title=\"Convert this dataframe to an interactive table.\"\n",
              "              style=\"display:none;\">\n",
              "        \n",
              "  <svg xmlns=\"http://www.w3.org/2000/svg\" height=\"24px\"viewBox=\"0 0 24 24\"\n",
              "       width=\"24px\">\n",
              "    <path d=\"M0 0h24v24H0V0z\" fill=\"none\"/>\n",
              "    <path d=\"M18.56 5.44l.94 2.06.94-2.06 2.06-.94-2.06-.94-.94-2.06-.94 2.06-2.06.94zm-11 1L8.5 8.5l.94-2.06 2.06-.94-2.06-.94L8.5 2.5l-.94 2.06-2.06.94zm10 10l.94 2.06.94-2.06 2.06-.94-2.06-.94-.94-2.06-.94 2.06-2.06.94z\"/><path d=\"M17.41 7.96l-1.37-1.37c-.4-.4-.92-.59-1.43-.59-.52 0-1.04.2-1.43.59L10.3 9.45l-7.72 7.72c-.78.78-.78 2.05 0 2.83L4 21.41c.39.39.9.59 1.41.59.51 0 1.02-.2 1.41-.59l7.78-7.78 2.81-2.81c.8-.78.8-2.07 0-2.86zM5.41 20L4 18.59l7.72-7.72 1.47 1.35L5.41 20z\"/>\n",
              "  </svg>\n",
              "      </button>\n",
              "      \n",
              "  <style>\n",
              "    .colab-df-container {\n",
              "      display:flex;\n",
              "      flex-wrap:wrap;\n",
              "      gap: 12px;\n",
              "    }\n",
              "\n",
              "    .colab-df-convert {\n",
              "      background-color: #E8F0FE;\n",
              "      border: none;\n",
              "      border-radius: 50%;\n",
              "      cursor: pointer;\n",
              "      display: none;\n",
              "      fill: #1967D2;\n",
              "      height: 32px;\n",
              "      padding: 0 0 0 0;\n",
              "      width: 32px;\n",
              "    }\n",
              "\n",
              "    .colab-df-convert:hover {\n",
              "      background-color: #E2EBFA;\n",
              "      box-shadow: 0px 1px 2px rgba(60, 64, 67, 0.3), 0px 1px 3px 1px rgba(60, 64, 67, 0.15);\n",
              "      fill: #174EA6;\n",
              "    }\n",
              "\n",
              "    [theme=dark] .colab-df-convert {\n",
              "      background-color: #3B4455;\n",
              "      fill: #D2E3FC;\n",
              "    }\n",
              "\n",
              "    [theme=dark] .colab-df-convert:hover {\n",
              "      background-color: #434B5C;\n",
              "      box-shadow: 0px 1px 3px 1px rgba(0, 0, 0, 0.15);\n",
              "      filter: drop-shadow(0px 1px 2px rgba(0, 0, 0, 0.3));\n",
              "      fill: #FFFFFF;\n",
              "    }\n",
              "  </style>\n",
              "\n",
              "      <script>\n",
              "        const buttonEl =\n",
              "          document.querySelector('#df-ed9ccc51-8a35-42ff-bcaa-b4c9d4db7593 button.colab-df-convert');\n",
              "        buttonEl.style.display =\n",
              "          google.colab.kernel.accessAllowed ? 'block' : 'none';\n",
              "\n",
              "        async function convertToInteractive(key) {\n",
              "          const element = document.querySelector('#df-ed9ccc51-8a35-42ff-bcaa-b4c9d4db7593');\n",
              "          const dataTable =\n",
              "            await google.colab.kernel.invokeFunction('convertToInteractive',\n",
              "                                                     [key], {});\n",
              "          if (!dataTable) return;\n",
              "\n",
              "          const docLinkHtml = 'Like what you see? Visit the ' +\n",
              "            '<a target=\"_blank\" href=https://colab.research.google.com/notebooks/data_table.ipynb>data table notebook</a>'\n",
              "            + ' to learn more about interactive tables.';\n",
              "          element.innerHTML = '';\n",
              "          dataTable['output_type'] = 'display_data';\n",
              "          await google.colab.output.renderOutput(dataTable, element);\n",
              "          const docLink = document.createElement('div');\n",
              "          docLink.innerHTML = docLinkHtml;\n",
              "          element.appendChild(docLink);\n",
              "        }\n",
              "      </script>\n",
              "    </div>\n",
              "  </div>\n",
              "  "
            ]
          },
          "metadata": {},
          "execution_count": 37
        },
        {
          "output_type": "stream",
          "name": "stdout",
          "text": [
            "Warning: Total number of columns (33) exceeds max_columns (20) limiting to first (20) columns.\n"
          ]
        }
      ]
    },
    {
      "cell_type": "code",
      "source": [
        "df.columns"
      ],
      "metadata": {
        "colab": {
          "base_uri": "https://localhost:8080/"
        },
        "id": "vGysKAXAIxzK",
        "outputId": "823c6f7c-5a68-4a16-e9c0-4ce6294dae1a"
      },
      "execution_count": 41,
      "outputs": [
        {
          "output_type": "execute_result",
          "data": {
            "text/plain": [
              "Index(['[QUOTE_UNIXTIME]', ' [QUOTE_READTIME]', ' [QUOTE_DATE]',\n",
              "       ' [QUOTE_TIME_HOURS]', ' [UNDERLYING_LAST]', ' [EXPIRE_DATE]',\n",
              "       ' [EXPIRE_UNIX]', ' [DTE]', ' [C_DELTA]', ' [C_GAMMA]', ' [C_VEGA]',\n",
              "       ' [C_THETA]', ' [C_RHO]', ' [C_IV]', ' [C_VOLUME]', ' [C_LAST]',\n",
              "       ' [C_SIZE]', ' [C_BID]', ' [C_ASK]', ' [STRIKE]', ' [P_BID]',\n",
              "       ' [P_ASK]', ' [P_SIZE]', ' [P_LAST]', ' [P_DELTA]', ' [P_GAMMA]',\n",
              "       ' [P_VEGA]', ' [P_THETA]', ' [P_RHO]', ' [P_IV]', ' [P_VOLUME]',\n",
              "       ' [STRIKE_DISTANCE]', ' [STRIKE_DISTANCE_PCT]'],\n",
              "      dtype='object')"
            ]
          },
          "metadata": {},
          "execution_count": 41
        }
      ]
    },
    {
      "cell_type": "code",
      "source": [
        ""
      ],
      "metadata": {
        "id": "rBJi6vQ7I6Zz"
      },
      "execution_count": null,
      "outputs": []
    },
    {
      "cell_type": "code",
      "source": [
        "less_than_1000_transactions = df[' [QUOTE_DATE]'].value_counts(ascending=True).loc[lambda x : x<1000]\n",
        "print(less_than_1000_transactions.shape[0])\n",
        "df[' [QUOTE_DATE]'].value_counts(ascending=True)[:less_than_1000_transactions.shape[0]].plot(kind='barh')"
      ],
      "metadata": {
        "id": "OKeCusd30i8r",
        "colab": {
          "base_uri": "https://localhost:8080/",
          "height": 303
        },
        "outputId": "0633da61-5f8a-4074-fa95-52e6d30c035f"
      },
      "execution_count": 56,
      "outputs": [
        {
          "output_type": "stream",
          "name": "stdout",
          "text": [
            "87\n"
          ]
        },
        {
          "output_type": "execute_result",
          "data": {
            "text/plain": [
              "<matplotlib.axes._subplots.AxesSubplot at 0x7f70fb08e210>"
            ]
          },
          "metadata": {},
          "execution_count": 56
        },
        {
          "output_type": "display_data",
          "data": {
            "text/plain": [
              "<Figure size 432x288 with 1 Axes>"
            ],
            "image/png": "[encoded data removed]"
          },
          "metadata": {
            "needs_background": "light"
          }
        }
      ]
    },
    {
      "cell_type": "code",
      "source": [
        ""
      ],
      "metadata": {
        "id": "RXGhsfKUKhW3"
      },
      "execution_count": null,
      "outputs": []
    }
  ]
}